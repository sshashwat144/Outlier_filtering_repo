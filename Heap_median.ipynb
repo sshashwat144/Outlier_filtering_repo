{
 "cells": [
  {
   "cell_type": "code",
   "execution_count": 2,
   "metadata": {},
   "outputs": [],
   "source": [
    "import numpy as np \n",
    "array = np.random.normal(0, 1, 5000)\n",
    "sum = np.sum(array[0:1000])\n",
    "mean = sum/1000"
   ]
  },
  {
   "cell_type": "code",
   "execution_count": 4,
   "metadata": {},
   "outputs": [
    {
     "data": {
      "text/plain": [
       "-0.03837297978233316"
      ]
     },
     "execution_count": 4,
     "metadata": {},
     "output_type": "execute_result"
    }
   ],
   "source": [
    "mean"
   ]
  },
  {
   "cell_type": "code",
   "execution_count": null,
   "metadata": {},
   "outputs": [],
   "source": [
    " \n",
    "from heapq import heappush, heappop, heapify\n",
    "import math\n",
    "mad = 0\n",
    "g = []\n",
    "s = []\n",
    "for i in range(1000):\n",
    "    deviation = abs(mean - array[i])\n",
    "    # Negation for treating it as max heap\n",
    "    heappush(s, deviation)\n",
    "    heappush(g, -heappop(s))\n",
    "    if len(g) > len(s):\n",
    "        heappush(s, -heappop(g))\n",
    "        \n",
    "        \n",
    "\n",
    " \n",
    "if len(g) != len(s):\n",
    "    print(-s[0])\n",
    "    mad = -s[0]\n",
    "else:\n",
    "    print((g[0] - s[0])/2)\n",
    "    mad = (g[0] - s[0])/2"
   ]
  },
  {
   "cell_type": "code",
   "execution_count": null,
   "metadata": {},
   "outputs": [],
   "source": [
    "count = 0\n",
    "for i in range(4000):\n",
    "    lower =  mean - 3 * mad\n",
    "    upper = mean + 3 * mad\n",
    "    add = array[i]\n",
    "    if(add< lower or add> upper):\n",
    "        continue\n",
    "    sum += add\n",
    "    count += 1\n",
    "    \n",
    "\n",
    "    "
   ]
  },
  {
   "cell_type": "code",
   "execution_count": 6,
   "metadata": {},
   "outputs": [],
   "source": [
    "percent_mean_errors = []\n",
    "percent_std_errors = []\n",
    "for i in range (1000):\n",
    "\n",
    "    array = np.random.normal(1, 1, 10000)\n",
    "    true_mean = np.mean(array)\n",
    "    true_std = np.std(array)\n",
    "    trimmed_vals = array[0:1000]\n",
    "    mean = np.mean(trimmed_vals)\n",
    "    deviations = abs(mean - trimmed_vals)\n",
    "    mad = streamMed(deviations, 1000) \n",
    "    \n",
    "    for j in range(9000):\n",
    "        lower =  mean - 3 * mad\n",
    "        upper = mean + 3 * mad\n",
    "        add = array[j]\n",
    "        if(add< lower or add> upper):\n",
    "            continue\n",
    "        trimmed_vals = np.append(trimmed_vals, add)\n",
    "        \n",
    "    new_mean = np.mean(trimmed_vals)\n",
    "    new_std = np.std(trimmed_vals)\n",
    "    \n",
    "    percent_mean_errors.append(abs(new_mean- true_mean)/true_mean * 100)\n",
    "    percent_std_errors.append(abs(true_std-new_std)/ true_std * 100)\n",
    "    \n",
    "    \n",
    "\n",
    "    \n",
    "    \n",
    "    \n",
    "    \n",
    "    "
   ]
  },
  {
   "cell_type": "code",
   "execution_count": 7,
   "metadata": {},
   "outputs": [
    {
     "data": {
      "text/plain": [
       "0.8481488635288704"
      ]
     },
     "execution_count": 7,
     "metadata": {},
     "output_type": "execute_result"
    }
   ],
   "source": [
    "np.mean(percent_mean_errors)"
   ]
  },
  {
   "cell_type": "code",
   "execution_count": 8,
   "metadata": {},
   "outputs": [
    {
     "data": {
      "text/plain": [
       "10.402517432676795"
      ]
     },
     "execution_count": 8,
     "metadata": {},
     "output_type": "execute_result"
    }
   ],
   "source": [
    "np.mean(percent_std_errors)"
   ]
  },
  {
   "cell_type": "code",
   "execution_count": 4,
   "metadata": {},
   "outputs": [],
   "source": [
    "\n",
    "# Python code to implement the approach\n",
    " \n",
    "from heapq import heappush, heappop, heapify\n",
    "import math\n",
    " \n",
    "# Function to find the median of stream of data\n",
    "def streamMed(arr, N):\n",
    "     \n",
    "    # Declaring two min heap\n",
    "    g = []\n",
    "    s = []\n",
    "    for i in range(len(arr)):\n",
    "       \n",
    "        # Negation for treating it as max heap\n",
    "        heappush(s, -arr[i])\n",
    "        heappush(g, -heappop(s))\n",
    "        if len(g) > len(s):\n",
    "            heappush(s, -heappop(g))\n",
    " \n",
    "    if len(g) != len(s):\n",
    "        return ( -s[0])\n",
    "    else:\n",
    "        return (g[0] - s[0])/2\n",
    "        "
   ]
  },
  {
   "cell_type": "code",
   "execution_count": 111,
   "metadata": {},
   "outputs": [
    {
     "data": {
      "text/plain": [
       "-0.004247565980515164"
      ]
     },
     "execution_count": 111,
     "metadata": {},
     "output_type": "execute_result"
    }
   ],
   "source": [
    "array = np.random.normal(0, 1, 5000)\n",
    "true_mean = np.mean(array)\n",
    "true_std = np.std(array)\n",
    "np.median(array)\n"
   ]
  },
  {
   "cell_type": "code",
   "execution_count": 112,
   "metadata": {},
   "outputs": [
    {
     "data": {
      "text/plain": [
       "6.5"
      ]
     },
     "execution_count": 112,
     "metadata": {},
     "output_type": "execute_result"
    }
   ],
   "source": [
    "A = [5, 15, 1, 3, 2, 8, 7, 9, 10, 6, 11, 4]\n",
    "streamMed(A, len(A))"
   ]
  },
  {
   "cell_type": "code",
   "execution_count": 113,
   "metadata": {},
   "outputs": [
    {
     "data": {
      "text/plain": [
       "-0.004247565980515164"
      ]
     },
     "execution_count": 113,
     "metadata": {},
     "output_type": "execute_result"
    }
   ],
   "source": [
    "streamMed(array, 5000)"
   ]
  },
  {
   "cell_type": "code",
   "execution_count": 102,
   "metadata": {},
   "outputs": [
    {
     "data": {
      "text/plain": [
       "1.0446564062389099"
      ]
     },
     "execution_count": 102,
     "metadata": {},
     "output_type": "execute_result"
    }
   ],
   "source": [
    "trimmed_vals = array[0:1000]\n",
    "mean = np.mean(trimmed_vals)\n",
    "deviations = abs(mean - trimmed_vals)\n",
    "streamMed(deviations, 1000) \n",
    "    "
   ]
  },
  {
   "cell_type": "code",
   "execution_count": null,
   "metadata": {},
   "outputs": [],
   "source": []
  }
 ],
 "metadata": {
  "kernelspec": {
   "display_name": "Cryo-EM_project",
   "language": "python",
   "name": "python3"
  },
  "language_info": {
   "codemirror_mode": {
    "name": "ipython",
    "version": 3
   },
   "file_extension": ".py",
   "mimetype": "text/x-python",
   "name": "python",
   "nbconvert_exporter": "python",
   "pygments_lexer": "ipython3",
   "version": "3.11.0"
  }
 },
 "nbformat": 4,
 "nbformat_minor": 2
}
